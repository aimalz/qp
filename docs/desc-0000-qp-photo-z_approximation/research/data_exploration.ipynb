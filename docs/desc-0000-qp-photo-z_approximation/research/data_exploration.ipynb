{
 "cells": [
  {
   "cell_type": "markdown",
   "metadata": {},
   "source": [
    "# Exploring BPZ Test Data\n",
    "\n",
    "_Alex Malz & Phil Marshall_\n",
    "\n",
    "We have two datasets of photometric redshift 1D posterior PDFs in \"gridded\" format to test our `qp` approximations on: \n",
    "\n",
    "* ~30,000 from Melissa Graham (UW, LSST) from  LSST+Euclid/WFIRST-like mock data\n",
    "* ~100,000 from Sam Schmidt (UC Davis, LSST) from LSST-like mock data\n",
    "\n",
    "In this notebook we visualize these distributions and develop machinery to evaluate our approximations on the whole set in \"survey mode.\" "
   ]
  },
  {
   "cell_type": "markdown",
   "metadata": {},
   "source": [
    "## Set-up, Ingest"
   ]
  },
  {
   "cell_type": "code",
   "execution_count": null,
   "metadata": {
    "collapsed": false
   },
   "outputs": [],
   "source": [
    "%load_ext autoreload\n",
    "%autoreload 2"
   ]
  },
  {
   "cell_type": "code",
   "execution_count": null,
   "metadata": {
    "collapsed": false
   },
   "outputs": [],
   "source": [
    "from __future__ import print_function\n",
    "    \n",
    "import hickle\n",
    "import numpy as np\n",
    "from pathos.multiprocessing import ProcessingPool as Pool\n",
    "import random\n",
    "import cProfile\n",
    "import pstats\n",
    "import StringIO\n",
    "import timeit\n",
    "import psutil\n",
    "import sys\n",
    "\n",
    "import pandas as pd\n",
    "pd.set_option('display.max_columns', None)\n",
    "\n",
    "import matplotlib.pyplot as plt\n",
    "%matplotlib inline\n",
    "\n",
    "import qp"
   ]
  },
  {
   "cell_type": "markdown",
   "metadata": {},
   "source": [
    "The data files don't appear to come with redshifts at which the PDFs are evaluated, but we are told they're evenly spaced between given endpoints."
   ]
  },
  {
   "cell_type": "code",
   "execution_count": null,
   "metadata": {
    "collapsed": true
   },
   "outputs": [],
   "source": [
    "# choose one of these:\n",
    "dataname = 'mg'\n",
    "# dataname = 'ss'\n",
    "\n",
    "if dataname == 'mg':\n",
    "    # Melissa Graham's data\n",
    "    datafilename = 'bpz_euclid_test_10_2.probs'\n",
    "    z_low = 0.01\n",
    "    z_high = 3.51\n",
    "elif dataname == 'ss':\n",
    "    # Sam Schmidt's data\n",
    "    datafilename = 'test_magscat_trainingfile_probs.out'\n",
    "    z_low = 0.005\n",
    "    z_high = 2.11"
   ]
  },
  {
   "cell_type": "code",
   "execution_count": null,
   "metadata": {
    "collapsed": false
   },
   "outputs": [],
   "source": [
    "z = np.arange(z_low, z_high, 0.01, dtype='float')\n",
    "z_range = z_high - z_low\n",
    "delta_z = z_range / len(z)\n",
    "\n",
    "## Warning: reading in the data is slow for Sam Schmidt's dataset!\n",
    "with open(datafilename, 'rb') as data_file:\n",
    "    lines = (line.split(None) for line in data_file)\n",
    "    lines.next()\n",
    "    pdfs = np.array([[float(line[k]) for k in range(1,len(line))] for line in lines])\n",
    "    \n",
    "print(sys.getsizeof(pdfs))"
   ]
  },
  {
   "cell_type": "markdown",
   "metadata": {},
   "source": [
    "## Visualizing the BPZ $p(z)$'s\n",
    "\n",
    "Let's plot a few interesting PDFs from the dataset."
   ]
  },
  {
   "cell_type": "code",
   "execution_count": null,
   "metadata": {
    "collapsed": false
   },
   "outputs": [],
   "source": [
    "colors = ['red','green','blue','cyan','magenta','yellow']\n",
    "n_plot = len(colors)\n",
    "\n",
    "if dataname == 'mg':\n",
    "    indices = [1, 3, 14, 16, 19, 21]\n",
    "elif dataname == 'ss':\n",
    "    n_gals_tot = len(pdfs)\n",
    "    full_gal_range = range(n_gals_tot)\n",
    "    indices = np.random.choice(full_gal_range, n_plot)\n",
    "\n",
    "for i in range(n_plot):\n",
    "    plt.plot(z, pdfs[indices[i]], color=colors[i], label=dataname+' Galaxy '+str(indices[i]))\n",
    "plt.xlabel('redshift $z$', fontsize=16)\n",
    "plt.legend();"
   ]
  },
  {
   "cell_type": "markdown",
   "metadata": {},
   "source": [
    "Now, let's turn one of them into a `qp.PDF` object initialized with a gridded parametrization.  \n",
    "\n",
    "Note: The PDFs in the data file weren't properly normalized.  In order to be PDFs, we want $\\int\\ p(z)\\ dz=1$, but the data file entries satisfy $\\sum_{z}\\ p(z)=1$, which is not the same.  `qp` approximates the desired integral as $\\int\\ p(z)\\ dz\\ \\approx\\ \\Delta z\\ \\sum_{i}^{N}\\ p(z_{i})$ where $\\Delta z=\\frac{z_{max}-z_{min}}{N}$ is the distance between each neighbor pair $i$ of $N$ redshifts at which the PDF is evaluated."
   ]
  },
  {
   "cell_type": "code",
   "execution_count": null,
   "metadata": {
    "collapsed": false
   },
   "outputs": [],
   "source": [
    "if dataname == 'mg':\n",
    "    chosen = 1\n",
    "elif dataname == 'ss':\n",
    "    chosen = 108019\n",
    "\n",
    "G = qp.PDF(gridded=(z, pdfs[chosen]))\n",
    "G.plot()"
   ]
  },
  {
   "cell_type": "markdown",
   "metadata": {
    "collapsed": true
   },
   "source": [
    "## Approximating the BPZ $p(z)'s$\n",
    "\n",
    "\n",
    "Quantile and histogram representations cannot be computed directly from gridded PDFs - we need to make a GMM first, and use this to instantiate a `qp.PDF` object using a `qp.composite` object based on that GMM as `qp.PDF.truth`.  We can fit a GMM directly to the gridded PDF, or we can sample it and fit a GMM to the samples."
   ]
  },
  {
   "cell_type": "code",
   "execution_count": null,
   "metadata": {
    "collapsed": false
   },
   "outputs": [],
   "source": [
    "if dataname == 'mg':\n",
    "    nc_needed = 3\n",
    "elif dataname == 'ss':\n",
    "    nc_needed = 5\n",
    "\n",
    "G.mix_mod_fit(n_components=nc_needed)\n",
    "G.plot()"
   ]
  },
  {
   "cell_type": "markdown",
   "metadata": {},
   "source": [
    "We can also fit the GMM to samples, producing a very similar `qp.composite` object."
   ]
  },
  {
   "cell_type": "code",
   "execution_count": null,
   "metadata": {
    "collapsed": false
   },
   "outputs": [],
   "source": [
    "G.sample(1000, vb=False)\n",
    "M_dist = G.mix_mod_fit(n_components=nc_needed, vb=True)\n",
    "G.plot()"
   ]
  },
  {
   "cell_type": "markdown",
   "metadata": {},
   "source": [
    "The `qp.composite` object can be used as the `qp.PDF.truth` to initialize a new `qp.PDF` object that doesn't have any information about the gridded or sample approximations.  Now we can approximate it any way we like!"
   ]
  },
  {
   "cell_type": "code",
   "execution_count": null,
   "metadata": {
    "collapsed": false,
    "scrolled": false
   },
   "outputs": [],
   "source": [
    "M = qp.PDF(truth=M_dist)\n",
    "M.sample(N=100,vb=False)\n",
    "M.quantize(N=100, vb=False)\n",
    "M.histogramize(N=100, vb=False)\n",
    "M.plot(vb=False)"
   ]
  },
  {
   "cell_type": "code",
   "execution_count": null,
   "metadata": {
    "collapsed": false
   },
   "outputs": [],
   "source": [
    "for n in range(3):\n",
    "    print(qp.utils.calculate_moment(M, n, using='samples'))"
   ]
  },
  {
   "cell_type": "markdown",
   "metadata": {
    "collapsed": true
   },
   "source": [
    "## Quantifying the Accuracy of the Approximation\n",
    "\n",
    "Let's start by computing the RMSE and KLD between each approximation and the truth, in a sample of systems - and then graduate to looking at the estimated $n(z)$. We'll need a function to do all the analysis on a single object, and then accumulate the outputs to analyze them."
   ]
  },
  {
   "cell_type": "code",
   "execution_count": null,
   "metadata": {
    "collapsed": true
   },
   "outputs": [],
   "source": [
    "def setup(pdfs, z, N_comps):\n",
    "    \n",
    "    #read in the data, happens to be gridded\n",
    "    zlim = (min(z), max(z))\n",
    "    N_pdfs = len(pdfs)\n",
    "    \n",
    "    print('making the initial ensemble')\n",
    "    E0 = qp.Ensemble(N_pdfs, gridded=(z, pdfs), vb=False)\n",
    "    print('made the initial ensemble')\n",
    "    \n",
    "    #fit GMMs to gridded pdfs based on samples (faster than fitting to gridded)\n",
    "    print('sampling for the GMM fit')\n",
    "    samparr = E0.sample(1000, vb=False)\n",
    "    Ei = qp.Ensemble(N_pdfs, samples=samparr, vb=False)\n",
    "    print('fitting the gmm to samples')\n",
    "    GMMs = Ei.mix_mod_fit(comps=N_comps, vb=False)\n",
    "    print('fit the gmm')\n",
    "#     out_E['GMMs'] = []\n",
    "#     for GMM in GMMs:\n",
    "#         out_E['GMMs'].append(GMM.functions[0].stats())\n",
    "    \n",
    "    #set the GMMS as the truth\n",
    "    print('making the final ensemble')\n",
    "    Ef = qp.Ensemble(N_pdfs, truth=GMMs, vb=False)\n",
    "    print('made the final ensemble')\n",
    "    \n",
    "    return(Ef)"
   ]
  },
  {
   "cell_type": "code",
   "execution_count": null,
   "metadata": {
    "collapsed": true
   },
   "outputs": [],
   "source": [
    "def analyze_individual(E, z, N_floats, N_moments=6):#(pdfs, N_comps, z, N_floats):\n",
    "    zlim = (min(z), max(z))\n",
    "    z_range = zlim[-1] - zlim[0]\n",
    "    delta_z = z_range / len(z)\n",
    "    \n",
    "    Eq = E\n",
    "    Eh = E\n",
    "    Es =E\n",
    "    \n",
    "    print('making the approximate ensembles')\n",
    "    Eo = {}\n",
    "    Eo['quantiles'] = qp.Ensemble(Eq.n_pdfs, truth=E.truth, quantiles=Eq.quantize(N=N_floats, vb=False))\n",
    "    Eo['histogram'] = qp.Ensemble(Eh.n_pdfs, truth=E.truth, histogram=Eh.histogramize(N=N_floats, binrange=zlim, vb=False))\n",
    "    Eo['samples'] = qp.Ensemble(Es.n_pdfs, truth=E.truth, samples=Es.sample(samps=N_floats, vb=False))\n",
    "    print('made the approximate ensembles')\n",
    "    \n",
    "    print('calculating the individual metrics')\n",
    "    klds = {}\n",
    "    metrics = {}\n",
    "    moments = {}\n",
    "    \n",
    "    for key in Eo.keys():\n",
    "        print('starting '+key)\n",
    "        klds[key] = Eo[key].kld(using=key, limits=zlim, dx=delta_z)\n",
    "#     kld_q = Eq.kld(using='quantiles', limits=zlim, dx=dx)\n",
    "#     kld_h = Eh.kld(using='histogram', limits=zlim, dx=dx)\n",
    "#     kld_s = Es.kld(using='samples', limits=zlim, dx=dx)   \n",
    "#     klds['quantiles'] = kld_q\n",
    "#     klds['histogram'] = kld_h\n",
    "#     klds['samples'] = kld_s\n",
    "        samp_metric = qp.PDF(samples=klds[key])\n",
    "        gmm_metric = samp_metric.mix_mod_fit(n_components=nc_needed, using='samples')\n",
    "        metrics[key] = qp.PDF(truth=gmm_metric)\n",
    "#     metrics['quantiles'] = qp.PDF(samples=kld_q)\n",
    "#     metrics['histogram'] = qp.PDF(samples=kld_h)\n",
    "#     metrics['samples'] = qp.PDF(samples=kld_s)\n",
    "        moments[key] = []\n",
    "        for n in range(N_moments+1):\n",
    "            moments[key].append(qp.utils.calculate_moment(metrics[key], n, using=key, limits=zlim, dx=delta_z, vb=False))\n",
    "        print('finished with '+key)\n",
    "    print('calculated the individual metrics')\n",
    "    # insert moments stuff here\n",
    "    \n",
    "    return(Eo, klds, moments)"
   ]
  },
  {
   "cell_type": "code",
   "execution_count": null,
   "metadata": {
    "collapsed": true
   },
   "outputs": [],
   "source": [
    "def analyze_stacked(E0, E, z):#input stacks that are output of above\n",
    "    \n",
    "    zlim = (min(z), max(z))\n",
    "    z_range = zlim[-1] - zlim[0]\n",
    "    delta_z = z_range / len(z)\n",
    "    \n",
    "    parametrizations = E.keys()\n",
    "    print('stacking the ensembles')           \n",
    "    stacked_pdfs = {}\n",
    "    for key in parametrizations:\n",
    "        stacked_pdfs[key] = qp.PDF(gridded=E[key].stack(z, using=key, vb=False)[key])\n",
    "#     stacked_pdfs['quantiles'] = qp.PDF(gridded=E['quantiles'].stack(z, using='quantiles', vb=False))\n",
    "#     stacked_pdfs['histogram'] = qp.PDF(gridded=E['histogram'].stack(z, using='histogram', vb=False))\n",
    "#     stacked_pdfs['samples'] = qp.PDF(gridded=E['samples'].stack(z, using='samples', vb=False))\n",
    "    \n",
    "    stacked_pdfs['truth'] = qp.PDF(gridded=E0.stack(z, using='truth', vb=False)['truth'])\n",
    "    print('stacked the ensembles')\n",
    "    \n",
    "    print('calculating the metrics')\n",
    "    klds = {}\n",
    "    for key in parametrizations:\n",
    "        klds[key] = qp.utils.calculate_kl_divergence(stacked_pdfs['truth'], stacked_pdfs[key], limits=zlim, dx=delta_z)\n",
    "    print('calculated the metrics')    \n",
    "    \n",
    "    return(stacked_pdfs, klds)"
   ]
  },
  {
   "cell_type": "code",
   "execution_count": null,
   "metadata": {
    "collapsed": false,
    "scrolled": true
   },
   "outputs": [],
   "source": [
    "# this is a test of the experimental qp.Ensemble object!\n",
    "\n",
    "n_gals_tot = len(pdfs)\n",
    "n_gals_use = 100\n",
    "full_gal_range = range(n_gals_tot)\n",
    "subset = np.random.choice(full_gal_range, n_gals_use)\n",
    "pdfs_use = pdfs[subset]\n",
    "n_floats_use = 5\n",
    "fit_components = nc_needed#int(np.floor(n_floats_use / 3))\n",
    "n_moments_use = 6\n",
    "\n",
    "pr = cProfile.Profile()\n",
    "pr.enable()\n",
    "\n",
    "catalog = setup(pdfs_use, z, fit_components)\n",
    "(ensembles, pz_klds, metric_moments) = analyze_individual(catalog, z, n_floats_use, n_moments_use)\n",
    "(stack_evals, nz_klds) = analyze_stacked(catalog, ensembles, z)\n",
    "\n",
    "pr.disable()\n",
    "s = StringIO.StringIO()\n",
    "sortby = 'cumtime'\n",
    "ps = pstats.Stats(pr, stream=s).sort_stats(sortby)\n",
    "ps.print_stats()\n",
    "print(n_gals_use, n_floats_use, s.getvalue())"
   ]
  },
  {
   "cell_type": "code",
   "execution_count": null,
   "metadata": {
    "collapsed": false
   },
   "outputs": [],
   "source": [
    "colors = {'quantiles':'b', 'histogram':'r', 'samples':'g'}\n",
    "plot_bins = np.linspace(-3., 3., 20)\n",
    "for key in pz_klds.keys():\n",
    "    plt.hist(np.log(pz_klds[key]), color=colors[key], alpha=0.5, label=key, normed=True, bins=plot_bins)\n",
    "plt.legend()\n",
    "plt.ylabel('frequency')\n",
    "plt.xlabel(r'$\\log[KLD]$')\n",
    "plt.title(dataname+r' dataset with $N_{f}='+str(n_floats_use)+r'$')\n",
    "plt.savefig('metric_histogram_placeholder.png', dpi=250)"
   ]
  },
  {
   "cell_type": "code",
   "execution_count": null,
   "metadata": {
    "collapsed": false
   },
   "outputs": [],
   "source": [
    "## everything works above here!  now it's time to make plots from this output!"
   ]
  },
  {
   "cell_type": "code",
   "execution_count": null,
   "metadata": {
    "collapsed": false
   },
   "outputs": [],
   "source": [
    "# def make_patch_spines_invisible(ax):\n",
    "#     ax.set_frame_on(True)\n",
    "#     ax.patch.set_visible(False)\n",
    "#     for sp in ax.spines.values():\n",
    "#         sp.set_visible(False)\n",
    "\n",
    "colors = {'quantiles':'b', 'histogram':'r', 'samples':'g'}\n",
    "shapes = ['o','+','x','v','^','<','>']\n",
    "fig, ax = plt.subplots()\n",
    "\n",
    "for key in metric_moments.keys():\n",
    "    ax.plot([-1], [0], color=colors[key], label=key)\n",
    "ax_n = ax\n",
    "for n in range(n_moments_use + 1):\n",
    "    ax_n = ax_n.twinx()\n",
    "    ax.scatter([-1], [0], color='k', marker=shapes[n], label=str(n))\n",
    "    for key in metric_moments.keys():\n",
    "        ax_n.scatter([n_floats_use], [metric_moments[key][n]], marker=shapes[n], color=colors[key])\n",
    "    ax_n.set_ylabel('moment '+str(n))\n",
    "    if n<3:\n",
    "        ax_n.spines[\"right\"].set_position((\"axes\", -0.1 * n))\n",
    "    else:\n",
    "        ax_n.spines[\"left\"].set_position((\"axes\", 0.1 * (n-3)))\n",
    "#     make_patch_spines_invisible(ax_n)\n",
    "#     if n<3:\n",
    "#         ax_n.spines[\"left\"].set_visible(True)\n",
    "#     else:\n",
    "#         ax_n.spines[\"right\"].set_visible(True)\n",
    "    ax_n.semilogy()\n",
    "ax.set_xlim(0,10)#should be N_f range and logged\n",
    "ax.set_xlabel('number of parameters')\n",
    "ax.legend()\n",
    "fig.suptitle('moments of the KLD distribution')\n",
    "# use http://matplotlib.org/examples/axes_grid/demo_parasite_axes2.html\n",
    "print(metric_moments)"
   ]
  },
  {
   "cell_type": "code",
   "execution_count": null,
   "metadata": {
    "collapsed": false
   },
   "outputs": [],
   "source": [
    "# need to get some version of this working from nz_klds\n",
    "plt.figure(figsize=(12, 5))\n",
    "plt.title(r'KLD for $n(z)$')\n",
    "plt.xlabel('number of parameters')\n",
    "plt.ylabel('KLD')\n",
    "\n",
    "for key in nz_klds.keys():\n",
    "    # will be regular plot not scatter with more N_f options\n",
    "    plt.scatter([n_floats_use], [nz_klds[key]], color=colors[key], label=key)\n",
    "\n",
    "plt.semilogy()\n",
    "plt.semilogx()\n",
    "plt.legend()\n",
    "plt.savefig('nz_placeholder.png')"
   ]
  },
  {
   "cell_type": "code",
   "execution_count": null,
   "metadata": {
    "collapsed": true
   },
   "outputs": [],
   "source": []
  },
  {
   "cell_type": "code",
   "execution_count": null,
   "metadata": {
    "collapsed": false
   },
   "outputs": [],
   "source": [
    "# Function to test the experimental qp.Ensemble object!\n",
    "\n",
    "def analyze():#(pdfs, N_comps, z, N_floats):\n",
    "    \n",
    "    #read in the data, happens to be gridded\n",
    "    z_low, z_high = min(z), max(z)\n",
    "    N_pdfs = len(pdfs)\n",
    "    out_E = {}\n",
    "    E0 = qp.Ensemble(N_pdfs, gridded=(z, pdfs), vb=False)\n",
    "\n",
    "    #fit gridded pdfs as GMMs based on samples\n",
    "    samparr = E0.sample(1000, vb=False)\n",
    "    print(np.shape(samparr))\n",
    "    Ei = qp.Ensemble(N_pdfs, samples=samparr, vb=False)\n",
    "    GMMs = Ei.mix_mod_fit(comps=N_comps, using='samples', vb=False)\n",
    "#     out_E['GMMs'] = []\n",
    "#     for GMM in GMMs:\n",
    "#         out_E['GMMs'].append(GMM.functions[0].stats())\n",
    "    \n",
    "    #set the GMMS as the truth\n",
    "    Ef = qp.Ensemble(N_pdfs, truth=GMMs, vb=False)\n",
    "    \n",
    "    #stack them and save the output\n",
    "    out_E['truth'] = Ef.stack(z, using='mix_mod', vb=False)\n",
    "    \n",
    "#     #evaluate as gridded and save the output\n",
    "#     Et = qp.Ensemble(N_pdfs, gridded=Ef.evaluate(z))\n",
    "#     out_E['gridded'] = Et.stack(z, using='gridded')\n",
    "    \n",
    "    #evaluate as quantiles and save the output\n",
    "    Eq = qp.Ensemble(N_pdfs, quantiles=Ef.quantize(N=N_floats), vb=False)\n",
    "    #q_stack = Eq.stack(z, using='quantiles')\n",
    "    out_E['quantiles'] = Eq.stack(z, using='quantiles', vb=False)\n",
    "    \n",
    "#     #evaluate as histogram and save the output\n",
    "#     Eh = qp.Ensemble(N_pdfs, histogram=Ef.histogramize(N=N_floats, binrange=(z_low, z_high)))\n",
    "#     #h_stack = Eh.stack(z, using='histogram')\n",
    "#     out_E['histogram'] = Eh.stack(z, using='histogram')\n",
    "    \n",
    "#     #evaluate as samples and save the output\n",
    "#     Es = qp.Ensemble(N_pdfs, samples=Ef.sample(samps=N_floats))\n",
    "#     #s_stack = Es.stack(z, using='samples')\n",
    "#     out_E['samples'] = Es.stack(z, using='samples')\n",
    "    \n",
    "    return(out_E)#, KLDs, RMSEs)"
   ]
  },
  {
   "cell_type": "markdown",
   "metadata": {},
   "source": [
    "Let's run a test with 100 galaxies and 10 parameters. This should take about 5 minutes or so."
   ]
  },
  {
   "cell_type": "code",
   "execution_count": null,
   "metadata": {
    "collapsed": false
   },
   "outputs": [],
   "source": [
    "print(n_gals_use, n_floats_use, s.getvalue())"
   ]
  },
  {
   "cell_type": "markdown",
   "metadata": {},
   "source": [
    "Let's show the stacked versions and compute metrics."
   ]
  },
  {
   "cell_type": "code",
   "execution_count": null,
   "metadata": {
    "collapsed": false
   },
   "outputs": [],
   "source": [
    "print(results.keys())\n",
    "print(results['truth']['mix_mod'])"
   ]
  },
  {
   "cell_type": "code",
   "execution_count": null,
   "metadata": {
    "collapsed": false
   },
   "outputs": [],
   "source": [
    "KLDs, RMSEs = {}, {}\n",
    "\n",
    "P = qp.PDF(gridded=results['truth']['mix_mod'])\n",
    "metric_keys = results.keys()\n",
    "metric_keys.remove('truth')\n",
    "\n",
    "for est in metric_keys:\n",
    "    Q = qp.PDF(gridded=results[est][est])\n",
    "    KLDs[est] = qp.utils.calculate_kl_divergence(P, Q, vb=False)\n",
    "    RMSEs[est] = qp.utils.calculate_rmse(P, Q, vb=False)\n",
    "    plt.plot(results[est][est][0], results[est][est][1], label=est)\n",
    "plt.legend()\n",
    "print(KLDs, RMSEs)"
   ]
  },
  {
   "cell_type": "code",
   "execution_count": null,
   "metadata": {
    "collapsed": true
   },
   "outputs": [],
   "source": []
  },
  {
   "cell_type": "markdown",
   "metadata": {
    "collapsed": true
   },
   "source": [
    "Things are quite broken after this point!"
   ]
  },
  {
   "cell_type": "markdown",
   "metadata": {},
   "source": []
  },
  {
   "cell_type": "code",
   "execution_count": null,
   "metadata": {
    "collapsed": false
   },
   "outputs": [],
   "source": [
    "P = qp.PDF(gridded=stack_ests['truth'])\n",
    "\n",
    "KLDs, RMSEs = {}, {}\n",
    "for est in .keys():\n",
    "    Q = qp.PDF(gridded=stack_ests[est])\n",
    "    KLDs[est] = qp.utils.calculate_kl_divergence(P, Q, vb=False)\n",
    "    RMSEs[est] = qp.utils.calculate_rmse(P, Q, vb=False)"
   ]
  },
  {
   "cell_type": "markdown",
   "metadata": {},
   "source": [
    "Let's plot the log standard deviations of the first component of the mixture models."
   ]
  },
  {
   "cell_type": "code",
   "execution_count": null,
   "metadata": {
    "collapsed": false
   },
   "outputs": [],
   "source": [
    "# moments = np.array(results['stats']).T\n",
    "# fit_stats = moments[1]\n",
    "# plt.hist(np.log(fit_stats))"
   ]
  },
  {
   "cell_type": "markdown",
   "metadata": {},
   "source": [
    "Let's check the distribution of standard deviations of the ensemble."
   ]
  },
  {
   "cell_type": "code",
   "execution_count": null,
   "metadata": {
    "collapsed": false
   },
   "outputs": [],
   "source": [
    "# D = qp.PDF(samples = np.log(fit_stats))\n",
    "# T = D.mix_mod_fit(n_components=1)\n",
    "# D.plot()\n",
    "# print(np.exp(T.functions[0].stats()))"
   ]
  },
  {
   "cell_type": "markdown",
   "metadata": {
    "collapsed": true
   },
   "source": [
    "Now enough of the `qp.Ensemble` functionality has been implemented to merge into the `master` branch!"
   ]
  },
  {
   "cell_type": "code",
   "execution_count": null,
   "metadata": {
    "collapsed": true
   },
   "outputs": [],
   "source": []
  },
  {
   "cell_type": "code",
   "execution_count": null,
   "metadata": {
    "collapsed": true
   },
   "outputs": [],
   "source": []
  },
  {
   "cell_type": "code",
   "execution_count": null,
   "metadata": {
    "collapsed": false
   },
   "outputs": [],
   "source": [
    "# this ends the test of the experimental qp.Ensemble object\n",
    "# you may now return to your regularly scheduled programming"
   ]
  },
  {
   "cell_type": "code",
   "execution_count": null,
   "metadata": {
    "collapsed": false
   },
   "outputs": [],
   "source": [
    "# def analyze_one(index, N_comps, z, N_floats, logfilename='logfile.txt', vb=False):\n",
    "#     \"\"\"\n",
    "#     Model the input BPZ P(z) as a GMM, approximate that GMM in \n",
    "#     various ways, and assess the quality of each approximation.\n",
    "    \n",
    "#     Parameters\n",
    "#     ----------\n",
    "#     index : int\n",
    "#         ID of galaxy\n",
    "#     N_comps : int\n",
    "#         Number of components used in GMM\n",
    "#     N_floats : int\n",
    "#         Number of floats used to parametrize the P(z)\n",
    "#     z : float, ndarr\n",
    "#         Redshift array for input gridded \"truth\". Used for \n",
    "#         evaluating n(z) too\n",
    "#     logfilename: string\n",
    "#         where to put logging information\n",
    "#     vb : boolean\n",
    "#         Verbose output?\n",
    "\n",
    "#     Returns\n",
    "#     -------\n",
    "#     result : dict\n",
    "#         Dictionary containing metric values, n(z) on standard \n",
    "#         grid, samples, \"true\" GMM gridded p(z).\n",
    "        \n",
    "#     Notes\n",
    "#     -----\n",
    "#     In some cases the GMM does not fit well, leading to bad KLD and \n",
    "#     RMSE values when it is compared to the truth.\n",
    "    \n",
    "#     \"\"\"\n",
    "# #     # Make z array if we don't already have it:\n",
    "# #     if z is None:\n",
    "# #         z = np.arange(0.01, 3.51, 0.01, dtype='float')\n",
    "#     dz = (max(z) - min(z)) / len(z)\n",
    "#     zlimits = [min(z), max(z)]\n",
    "\n",
    "#     # Make a dictionary to contain the results:     \n",
    "#     result = {}\n",
    "    \n",
    "#     # Make a GMM model of the input BPZ p(z) (which are stored\n",
    "#     # in the global 'pdfs' variable:\n",
    "#     G = qp.PDF(gridded=(z, pdfs[index]), vb=vb)\n",
    "    \n",
    "#     # Draw 1000 samples, fit a GMM model to them, and make a true PDF:\n",
    "#     G.sample(1000, vb=vb)\n",
    "#     GMM = G.mix_mod_fit(n_components=N_comps, vb=vb)\n",
    "#     P = qp.PDF(truth=GMM, vb=vb)\n",
    "    \n",
    "#     # Evaluate the GMM on the z grid, and store in the result dictionary. We'll \n",
    "#     # need this to make our \"true\" n(z) estimator. We don't need to keep the \n",
    "#     # z array, as we passed that in.\n",
    "#     result['truth'] = P.evaluate(z, using='truth', vb=vb)[1]\n",
    "\n",
    "#     # Now approximate P in various ways, and assess:\n",
    "#     Q, KLD, RMSE, approximation = {}, {}, {}, {}\n",
    "#     Q['quantiles'] = qp.PDF(quantiles=P.quantize(N=N_floats, vb=vb), vb=vb)\n",
    "#     Q['histogram'] = qp.PDF(histogram=P.histogramize(N=N_floats, binrange=zlimits, vb=vb), vb=vb)\n",
    "#     Q['samples'] = qp.PDF(samples=P.sample(N=N_floats, vb=vb), vb=vb)\n",
    "#     for k in Q.keys():\n",
    "#         KLD[k] = qp.calculate_kl_divergence(P, Q[k], limits=zlimits, dx=dz, vb=vb)\n",
    "#         RMSE[k] = qp.calculate_rmse(P, Q[k], limits=zlimits, dx=dz, vb=vb)\n",
    "#         approximation[k] = Q[k].evaluate(z, using=k, vb=vb)[1]\n",
    "        \n",
    "#     # Store approximations:\n",
    "#     result['KLD'] = KLD\n",
    "#     result['RMSE'] = RMSE\n",
    "#     result['approximation'] = approximation\n",
    "#     result['samples'] = Q['samples'].samples\n",
    "    \n",
    "#     with open(logfilename, 'a') as logfile:\n",
    "#         logfile.write(str((index, timeit.default_timer() - start_time))+'\\n')\n",
    "    \n",
    "#     return result"
   ]
  },
  {
   "cell_type": "markdown",
   "metadata": {},
   "source": [
    "OK, now lets's collate the metrics for the first 100 galaxies over a variable number of parameters, and look at the distribution of metric values.  We're using multiprocessing because the `for` loop is slow; the rate-limiting step is the optimization routine for finding quantiles of a GMM."
   ]
  },
  {
   "cell_type": "code",
   "execution_count": null,
   "metadata": {
    "collapsed": false
   },
   "outputs": [],
   "source": [
    "def one_analysis(N):\n",
    "    \n",
    "    all_results[str(N)] = []\n",
    "    \n",
    "    pr = cProfile.Profile()\n",
    "    pr.enable()\n",
    "    \n",
    "# with qp.Ensemble\n",
    "    n_gals_tot = len(pdfs)\n",
    "    full_gal_range = range(n_gals_tot)\n",
    "    subset = np.random.choice(full_gal_range, n_gals)\n",
    "    pdfs_use = pdfs[subset]\n",
    "    all_results[str(N)] = analyze(pdfs_use, nc_needed, z, N)\n",
    "\n",
    "# # if multiprocessing:\n",
    "#     logfilename = dataname + str(n_gals) + 'multi' + str(N)+'.txt'\n",
    "#     def help_analyze(i):\n",
    "#         return analyze_one(i, nc_needed, z, N, logfilename=logfilename)\n",
    "#     pool = Pool(psutil.cpu_count() - 1)\n",
    "#     results = pool.map(help_analyze, range(n_gals))\n",
    "#     all_results[str(N)] = results\n",
    "# # tl;dr Tmax=270s for N_floats=3, 100 galaxies, 3 processors\n",
    "    \n",
    "# # if looping:\n",
    "#     logfilename = dataname + str(n_gals) + 'loop' + str(N)+'.txt'\n",
    "#     for i in range(100):\n",
    "#         all_results[str(N)].append(analyze_one(i, 2, z, N, logfilename=logfilename))\n",
    "#         if i%10 == 0: print('.', end='')\n",
    "# # tl;dr Tmax=352s for N_floats=3, 100 galaxies\n",
    "    \n",
    "    pr.disable()\n",
    "    s = StringIO.StringIO()\n",
    "    sortby = 'cumtime'\n",
    "    ps = pstats.Stats(pr, stream=s).sort_stats(sortby)\n",
    "    ps.print_stats()\n",
    "    print(N, s.getvalue())\n",
    "    \n",
    "    return"
   ]
  },
  {
   "cell_type": "code",
   "execution_count": null,
   "metadata": {
    "collapsed": false
   },
   "outputs": [],
   "source": [
    "#%%time\n",
    "\n",
    "float_numbers = [3]#, 10, 30, 100]\n",
    "n_float_numbers = len(float_numbers)\n",
    "\n",
    "# gal_numbers = [100]#, 1000, 10000]\n",
    "# n_gal_numbers = len(gal_numbers)\n",
    "\n",
    "# total_results ={}\n",
    "# for M in gal_numbers:\n",
    "#     n_gals = M\n",
    "n_gals = 100\n",
    "all_results = {}\n",
    "for N in float_numbers:\n",
    "    start_time = timeit.default_timer()\n",
    "    one_analysis(N)\n",
    "#     total_results[str(n_gals)] = all_results"
   ]
  },
  {
   "cell_type": "markdown",
   "metadata": {},
   "source": [
    "Since the previous step is quite slow (on the order of 5 minutes per test of different numbers of parameters for my laptop), this is a good point to save the results.  We can load them from the file later and not remake them if we only want to do the rest of the analysis."
   ]
  },
  {
   "cell_type": "code",
   "execution_count": null,
   "metadata": {
    "collapsed": false
   },
   "outputs": [],
   "source": [
    "with open('all_results.hkl', 'w') as result_file: \n",
    "    hickle.dump(all_results, result_file)"
   ]
  },
  {
   "cell_type": "code",
   "execution_count": null,
   "metadata": {
    "collapsed": false
   },
   "outputs": [],
   "source": [
    "with open('all_results.hkl', 'r') as result_file: \n",
    "    all_results = hickle.load(result_file)"
   ]
  },
  {
   "cell_type": "code",
   "execution_count": null,
   "metadata": {
    "collapsed": false
   },
   "outputs": [],
   "source": [
    "# all_results = total_results[str(gal_numbers[0])]\n",
    "\n",
    "# all_KLD, all_RMSE = [], []\n",
    "# for n in range(n_float_numbers):\n",
    "#     KLD, RMSE = {}, {}\n",
    "#     for approximation in all_results[str(float_numbers[n])][0]['KLD'].keys():\n",
    "#         x = np.array([])\n",
    "#         for k in range(len(all_results[str(float_numbers[n])])):\n",
    "#             x = np.append(x, all_results[str(float_numbers[n])][k]['KLD'][approximation])\n",
    "#         KLD[approximation] = x\n",
    "#         x = np.array([])\n",
    "#         for k in range(len(all_results[str(float_numbers[n])])):\n",
    "#             x = np.append(x, all_results[str(float_numbers[n])][k]['RMSE'][approximation])\n",
    "#         RMSE[approximation] = x\n",
    "#     all_KLD.append(KLD)\n",
    "#     all_RMSE.append(RMSE)"
   ]
  },
  {
   "cell_type": "markdown",
   "metadata": {},
   "source": [
    "Now let's plot histograms of the metric values."
   ]
  },
  {
   "cell_type": "code",
   "execution_count": null,
   "metadata": {
    "collapsed": false
   },
   "outputs": [],
   "source": [
    "# colors = {'samples':'green', 'quantiles':'blue', 'histogram':'red'}\n",
    "# plt.figure(figsize=(12, 5 * n_float_numbers))\n",
    "\n",
    "# i=0\n",
    "# for n in range(n_float_numbers):\n",
    "#     i += 1\n",
    "#     # Lefthand panel: KLD\n",
    "#     plt.subplot(n_float_numbers, 2, i)\n",
    "#     plt.title('KLD for '+str(float_numbers[n])+' stored numbers')\n",
    "#     bins = np.linspace(0.0, 5., 25)\n",
    "#     for k in ['samples', 'quantiles', 'histogram']:\n",
    "#         plt.hist(all_KLD[n][k], bins, label=k, fc=colors[k], ec=colors[k], alpha=0.3, normed=True)\n",
    "#     #plt.semilogx()\n",
    "#     plt.xlabel('KL Divergence Metric', fontsize=16)\n",
    "#     plt.ylim(0., 5.0)\n",
    "#     plt.xlim(0., 5.0)\n",
    "#     plt.legend()\n",
    "    \n",
    "#     i += 1\n",
    "#     # Righthand panel: RMSE\n",
    "#     plt.subplot(n_float_numbers, 2, i)#+n_numbers)\n",
    "#     plt.title('RMSE for '+str(float_numbers[n])+' stored numbers')\n",
    "#     bins = np.linspace(0.0, 5., 25)\n",
    "#     for k in ['samples', 'quantiles', 'histogram']:\n",
    "#         plt.hist(all_RMSE[n][k], bins, label=k, fc=colors[k], ec=colors[k], alpha=0.3, normed=True)\n",
    "#     #plt.semilogx()\n",
    "#     plt.xlabel('RMS Error Metric', fontsize=16)\n",
    "#     plt.ylim(0., 5.0)\n",
    "#     plt.xlim(0., 5.0)\n",
    "#     plt.legend();\n",
    "    \n",
    "# plt.savefig('money.png')"
   ]
  },
  {
   "cell_type": "markdown",
   "metadata": {},
   "source": [
    "Interestingly, the metrics don't agree, nor is the behavior consistent across different numbers of parameters.  However, as the number of parameters increases, the distribution of the metrics converge to lower numbers.\n",
    "\n",
    "KLD seems to flag more \"bad\" approximations than RMSE. How do we know where to set the threshold in each metric? \n",
    "\n",
    "We should think of the right way to get a summary statistic (first moment?) on the ensemble of KLD or RMSE values so we can make the plot of number of parameters vs. quality of approximation."
   ]
  },
  {
   "cell_type": "markdown",
   "metadata": {},
   "source": [
    "Now lets compute the estimated $n(z)$. We'll do this with the GMM \"truth\", and then using each of our approximations. And we'll normalize the $n(z)$ to account for lost systems with bad approximations."
   ]
  },
  {
   "cell_type": "code",
   "execution_count": null,
   "metadata": {
    "collapsed": false
   },
   "outputs": [],
   "source": [
    "plt.figure(figsize=(6, 5 * n_float_numbers))\n",
    "all_n = []\n",
    "all_x = []\n",
    "all_y = []\n",
    "\n",
    "for i in range(n_float_numbers):\n",
    "    results = all_results[str(float_numbers[i])]\n",
    "    n = {}\n",
    "\n",
    "    # Pull out all truths and compute the average at each z:\n",
    "    x = np.zeros([len(z), len(results)])\n",
    "    y = {}\n",
    "    for approx in ['samples', 'quantiles', 'histogram']:\n",
    "        y[approx] = np.zeros([len(z), len(results)])\n",
    "        for k in range(len(results)):\n",
    "            y[approx][:,k] = results[k]['approximation'][approx] \n",
    "    for k in range(len(results)):\n",
    "        x[:,k] = results[k]['truth'] \n",
    "\n",
    "    # Now do the averaging to make the estimators:\n",
    "    n['truth'] = np.mean(x, axis=1)\n",
    "    n['truth'] /= np.sum(n['truth']) * delta_z\n",
    "    for approx in ['samples', 'quantiles', 'histogram']:\n",
    "        n[approx] = np.mean(y[approx], axis=1)\n",
    "        n[approx] /= np.sum(n[approx]) * delta_z\n",
    "        \n",
    "    all_n.append(n)\n",
    "    all_x.append(x)\n",
    "    all_y.append(y)\n",
    "\n",
    "    # Note: this uses the samples' KDE to make the approximation. We could (and \n",
    "    # should!) also try simply concatenating the samples and histogramming them.\n",
    "    \n",
    "    # Plot truth and all the approximations. \n",
    "    # The NaNs in the histogram approximation make that unplottable for now.\n",
    "    plt.subplot(n_float_numbers, 1, i+1)#+n_numbers)\n",
    "    plt.title(r'$n(z)$ for '+str(float_numbers[i])+' numbers')\n",
    "    plt.plot(z, n['truth'], color='black', lw=4, alpha=0.3, label='truth')\n",
    "    for k in ['samples', 'quantiles', 'histogram']:\n",
    "        plt.plot(z, n[k], label=k, color=colors[k])\n",
    "    plt.xlabel('redshift z')\n",
    "    plt.ylabel('n(z)')\n",
    "    plt.legend();\n",
    "plt.savefig('nz_comparison.png', dpi=300)"
   ]
  },
  {
   "cell_type": "markdown",
   "metadata": {},
   "source": [
    "The \"samples\" approximation gives the best result for the $n(z)$ estimator even with a small number of samples.  However, once the number of parameters increases slightly, the \"quantiles\" approximation performs similarly.  It takes a large number of parameters before the \"histogram\" approximation approaches the other options. Let's use the `qp.PDF` object to compare them quantitatively (since $n(z)$ can be normalized to give the global $p(z)$)."
   ]
  },
  {
   "cell_type": "code",
   "execution_count": null,
   "metadata": {
    "collapsed": true
   },
   "outputs": [],
   "source": [
    "all_p = []\n",
    "\n",
    "for i in range(n_float_numbers):\n",
    "    n = all_n[i]\n",
    "    p = {}\n",
    "    for k in ['samples', 'quantiles', 'histogram']:\n",
    "        p[k] = qp.PDF(gridded=(z,n[k]), vb=False)\n",
    "\n",
    "    p['truth'] = qp.PDF(gridded=(z,n['truth']), vb=False)\n",
    "    \n",
    "    all_p.append(p)"
   ]
  },
  {
   "cell_type": "code",
   "execution_count": null,
   "metadata": {
    "collapsed": true
   },
   "outputs": [],
   "source": [
    "all_KLD_nz, all_RMSE_nz = {}, {}\n",
    "zlimits, dz = [z_low, z_high], 0.01\n",
    "for k in ['samples', 'quantiles', 'histogram']:\n",
    "    p = all_p[i]\n",
    "    KLD_nz, RMSE_nz = [], []\n",
    "    for i in range(n_float_numbers):\n",
    "        KLD_nz.append(qp.calculate_kl_divergence(all_p[i]['truth'], all_p[i][k], limits=zlimits, dx=dz, vb=False))\n",
    "        RMSE_nz.append(qp.calculate_rmse(all_p[i]['truth'], all_p[i][k], limits=zlimits, dx=dz, vb=False))\n",
    "    \n",
    "    all_KLD_nz[k] = KLD_nz\n",
    "    all_RMSE_nz[k] = RMSE_nz"
   ]
  },
  {
   "cell_type": "code",
   "execution_count": null,
   "metadata": {
    "collapsed": false
   },
   "outputs": [],
   "source": [
    "plt.figure(figsize=(12, 5))\n",
    "both = [plt.subplot(1, 2, i+1) for i in range(2)]\n",
    "KLD_plot = both[0]\n",
    "RMSE_plot = both[1]\n",
    "KLD_plot.set_title(r'KLD for $n(z)$')\n",
    "RMSE_plot.set_title(r'RMSE for $n(z)$')\n",
    "KLD_plot.set_xlabel('number of parameters')\n",
    "RMSE_plot.set_xlabel('number of parameters')\n",
    "KLD_plot.set_ylabel('KLD')\n",
    "RMSE_plot.set_ylabel('RMSE')\n",
    "# KLD_plot.semilogx()\n",
    "# KLD_plot.semilogy()\n",
    "# RMSE_plot.semilogx()\n",
    "# RMSE_plot.semilogy()\n",
    "\n",
    "for k in ['samples', 'quantiles', 'histogram']:\n",
    "    KLD_plot.plot(float_numbers, all_KLD_nz[k], color=colors[k], label=k)\n",
    "    RMSE_plot.plot(float_numbers, all_RMSE_nz[k], color=colors[k], label=k)\n",
    "\n",
    "KLD_plot.semilogy()\n",
    "KLD_plot.semilogx()\n",
    "RMSE_plot.semilogy()\n",
    "RMSE_plot.semilogx()\n",
    "KLD_plot.legend()\n",
    "RMSE_plot.legend()\n",
    "plt.savefig('summary.png')"
   ]
  },
  {
   "cell_type": "code",
   "execution_count": null,
   "metadata": {
    "collapsed": false
   },
   "outputs": [],
   "source": [
    "print('KLD metrics for n(z) estimator: ', all_KLD_nz)\n",
    "print('RMSE metrics for n(z) estimator: ', all_RMSE_nz)"
   ]
  },
  {
   "cell_type": "markdown",
   "metadata": {},
   "source": [
    "This early indication suggests that quantiles perform best on the cleaner data set.\n",
    "\n",
    "A bigger test, using the full dataset, should allow this to be tested further: jack-knife error bars should also be calculable. "
   ]
  },
  {
   "cell_type": "code",
   "execution_count": null,
   "metadata": {
    "collapsed": true
   },
   "outputs": [],
   "source": []
  },
  {
   "cell_type": "code",
   "execution_count": null,
   "metadata": {
    "collapsed": true
   },
   "outputs": [],
   "source": []
  }
 ],
 "metadata": {
  "kernelspec": {
   "display_name": "Python 2",
   "language": "python",
   "name": "python2"
  },
  "language_info": {
   "codemirror_mode": {
    "name": "ipython",
    "version": 2
   },
   "file_extension": ".py",
   "mimetype": "text/x-python",
   "name": "python",
   "nbconvert_exporter": "python",
   "pygments_lexer": "ipython2",
   "version": "2.7.13"
  }
 },
 "nbformat": 4,
 "nbformat_minor": 1
}
